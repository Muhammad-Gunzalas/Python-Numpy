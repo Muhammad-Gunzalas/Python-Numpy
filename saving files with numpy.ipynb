{
 "cells": [
  {
   "cell_type": "code",
   "execution_count": 1,
   "id": "edc7b0df",
   "metadata": {},
   "outputs": [],
   "source": [
    "import numpy as np"
   ]
  },
  {
   "cell_type": "markdown",
   "id": "0b6ae8f2",
   "metadata": {},
   "source": [
    "### np.save"
   ]
  },
  {
   "cell_type": "code",
   "execution_count": 4,
   "id": "a3223870",
   "metadata": {},
   "outputs": [
    {
     "name": "stderr",
     "output_type": "stream",
     "text": [
      "<ipython-input-4-e3182ebeb236>:1: DeprecationWarning: `np.str` is a deprecated alias for the builtin `str`. To silence this warning, use `str` by itself. Doing this will not modify any behavior and is safe. If you specifically wanted the numpy scalar type, use `np.str_` here.\n",
      "Deprecated in NumPy 1.20; for more details and guidance: https://numpy.org/devdocs/release/1.20.0-notes.html#deprecations\n",
      "  lending_co=np.genfromtxt('Lending-company-saving.csv',delimiter=',',dtype=np.str)\n"
     ]
    },
    {
     "data": {
      "text/plain": [
       "array([['LoanID', 'StringID', 'Product', ..., 'Location', 'Region',\n",
       "        'TotalPrice'],\n",
       "       ['1', 'id_1', 'Product B', ..., 'Location 2', 'Region 2',\n",
       "        '16600.0'],\n",
       "       ['2', 'id_2', 'Product B', ..., 'Location 3', '', '16600.0'],\n",
       "       ...,\n",
       "       ['1041', 'id_1041', 'Product B', ..., 'Location 23', 'Region 4',\n",
       "        '16600.0'],\n",
       "       ['1042', 'id_1042', 'Product C', ..., 'Location 52', 'Region 6',\n",
       "        '15600.0'],\n",
       "       ['1043', 'id_1043', 'Product B', ..., 'Location 142', 'Region 6',\n",
       "        '16600.0']], dtype='<U14')"
      ]
     },
     "execution_count": 4,
     "metadata": {},
     "output_type": "execute_result"
    }
   ],
   "source": [
    "lending_co=np.genfromtxt('Lending-company-saving.csv',delimiter=',',dtype=np.str)\n",
    "lending_co"
   ]
  },
  {
   "cell_type": "code",
   "execution_count": 5,
   "id": "a70801c4",
   "metadata": {},
   "outputs": [],
   "source": [
    "np.save('Lending-Company-Saving',lending_co)"
   ]
  },
  {
   "cell_type": "code",
   "execution_count": 9,
   "id": "77360549",
   "metadata": {},
   "outputs": [
    {
     "data": {
      "text/plain": [
       "array([['LoanID', 'StringID', 'Product', ..., 'Location', 'Region',\n",
       "        'TotalPrice'],\n",
       "       ['1', 'id_1', 'Product B', ..., 'Location 2', 'Region 2',\n",
       "        '16600.0'],\n",
       "       ['2', 'id_2', 'Product B', ..., 'Location 3', '', '16600.0'],\n",
       "       ...,\n",
       "       ['1041', 'id_1041', 'Product B', ..., 'Location 23', 'Region 4',\n",
       "        '16600.0'],\n",
       "       ['1042', 'id_1042', 'Product C', ..., 'Location 52', 'Region 6',\n",
       "        '15600.0'],\n",
       "       ['1043', 'id_1043', 'Product B', ..., 'Location 142', 'Region 6',\n",
       "        '16600.0']], dtype='<U14')"
      ]
     },
     "execution_count": 9,
     "metadata": {},
     "output_type": "execute_result"
    }
   ],
   "source": [
    "lending_company_save=np.load('Lending-Company-Saving.npy')\n",
    "lending_company_save"
   ]
  },
  {
   "cell_type": "code",
   "execution_count": 11,
   "id": "d868a2d2",
   "metadata": {},
   "outputs": [
    {
     "data": {
      "text/plain": [
       "True"
      ]
     },
     "execution_count": 11,
     "metadata": {},
     "output_type": "execute_result"
    }
   ],
   "source": [
    "np.array_equal(lending_company_save,lending_co)"
   ]
  },
  {
   "cell_type": "markdown",
   "id": "f1e49119",
   "metadata": {},
   "source": [
    "### np.savez()"
   ]
  },
  {
   "cell_type": "code",
   "execution_count": 13,
   "id": "0bb28ad7",
   "metadata": {},
   "outputs": [],
   "source": [
    "lending_co\n",
    "lending_company_save\n",
    "np.savez('Lending-Company-Saving',lending_co,lending_company_save)"
   ]
  },
  {
   "cell_type": "code",
   "execution_count": 14,
   "id": "7d362a97",
   "metadata": {},
   "outputs": [],
   "source": [
    "lending_save_data_new=np.load('Lending-Company-Saving.npz')"
   ]
  },
  {
   "cell_type": "code",
   "execution_count": 17,
   "id": "c51529c6",
   "metadata": {},
   "outputs": [
    {
     "name": "stdout",
     "output_type": "stream",
     "text": [
      "[['LoanID' 'StringID' 'Product' ... 'Location' 'Region' 'TotalPrice']\n",
      " ['1' 'id_1' 'Product B' ... 'Location 2' 'Region 2' '16600.0']\n",
      " ['2' 'id_2' 'Product B' ... 'Location 3' '' '16600.0']\n",
      " ...\n",
      " ['1041' 'id_1041' 'Product B' ... 'Location 23' 'Region 4' '16600.0']\n",
      " ['1042' 'id_1042' 'Product C' ... 'Location 52' 'Region 6' '15600.0']\n",
      " ['1043' 'id_1043' 'Product B' ... 'Location 142' 'Region 6' '16600.0']]\n"
     ]
    }
   ],
   "source": [
    "print(lending_save_data_new['arr_0'])"
   ]
  },
  {
   "cell_type": "code",
   "execution_count": 18,
   "id": "312b822b",
   "metadata": {},
   "outputs": [],
   "source": [
    "np.savez('Lending-Company-Saving',company=lending_co,data_save=lending_company_save)\n",
    "lending_savez_data_new=np.load('Lending-Company-Saving.npz')"
   ]
  },
  {
   "cell_type": "code",
   "execution_count": 19,
   "id": "30a3dbea",
   "metadata": {},
   "outputs": [
    {
     "data": {
      "text/plain": [
       "['company', 'data_save']"
      ]
     },
     "execution_count": 19,
     "metadata": {},
     "output_type": "execute_result"
    }
   ],
   "source": [
    "lending_savez_data_new.files"
   ]
  },
  {
   "cell_type": "code",
   "execution_count": 20,
   "id": "835591e0",
   "metadata": {},
   "outputs": [
    {
     "data": {
      "text/plain": [
       "array([['LoanID', 'StringID', 'Product', ..., 'Location', 'Region',\n",
       "        'TotalPrice'],\n",
       "       ['1', 'id_1', 'Product B', ..., 'Location 2', 'Region 2',\n",
       "        '16600.0'],\n",
       "       ['2', 'id_2', 'Product B', ..., 'Location 3', '', '16600.0'],\n",
       "       ...,\n",
       "       ['1041', 'id_1041', 'Product B', ..., 'Location 23', 'Region 4',\n",
       "        '16600.0'],\n",
       "       ['1042', 'id_1042', 'Product C', ..., 'Location 52', 'Region 6',\n",
       "        '15600.0'],\n",
       "       ['1043', 'id_1043', 'Product B', ..., 'Location 142', 'Region 6',\n",
       "        '16600.0']], dtype='<U14')"
      ]
     },
     "execution_count": 20,
     "metadata": {},
     "output_type": "execute_result"
    }
   ],
   "source": [
    "lending_savez_data_new['data_save']"
   ]
  },
  {
   "cell_type": "code",
   "execution_count": 22,
   "id": "ac927ce9",
   "metadata": {},
   "outputs": [
    {
     "data": {
      "text/plain": [
       "array([['LoanID', 'StringID', 'Product', ..., 'Location', 'Region',\n",
       "        'TotalPrice'],\n",
       "       ['1', 'id_1', 'Product B', ..., 'Location 2', 'Region 2',\n",
       "        '16600.0'],\n",
       "       ['2', 'id_2', 'Product B', ..., 'Location 3', '', '16600.0'],\n",
       "       ...,\n",
       "       ['1041', 'id_1041', 'Product B', ..., 'Location 23', 'Region 4',\n",
       "        '16600.0'],\n",
       "       ['1042', 'id_1042', 'Product C', ..., 'Location 52', 'Region 6',\n",
       "        '15600.0'],\n",
       "       ['1043', 'id_1043', 'Product B', ..., 'Location 142', 'Region 6',\n",
       "        '16600.0']], dtype='<U14')"
      ]
     },
     "execution_count": 22,
     "metadata": {},
     "output_type": "execute_result"
    }
   ],
   "source": [
    "lending_savez_data_new['company']"
   ]
  },
  {
   "cell_type": "markdown",
   "id": "420f4155",
   "metadata": {},
   "source": [
    "### np.savetxt()"
   ]
  },
  {
   "cell_type": "code",
   "execution_count": 29,
   "id": "081ea652",
   "metadata": {},
   "outputs": [
    {
     "name": "stderr",
     "output_type": "stream",
     "text": [
      "<ipython-input-29-e3182ebeb236>:1: DeprecationWarning: `np.str` is a deprecated alias for the builtin `str`. To silence this warning, use `str` by itself. Doing this will not modify any behavior and is safe. If you specifically wanted the numpy scalar type, use `np.str_` here.\n",
      "Deprecated in NumPy 1.20; for more details and guidance: https://numpy.org/devdocs/release/1.20.0-notes.html#deprecations\n",
      "  lending_co=np.genfromtxt('Lending-company-saving.csv',delimiter=',',dtype=np.str)\n"
     ]
    },
    {
     "data": {
      "text/plain": [
       "array([['LoanID', 'StringID', 'Product', ..., 'Location', 'Region',\n",
       "        'TotalPrice'],\n",
       "       ['1', 'id_1', 'Product B', ..., 'Location 2', 'Region 2',\n",
       "        '16600.0'],\n",
       "       ['2', 'id_2', 'Product B', ..., 'Location 3', '', '16600.0'],\n",
       "       ...,\n",
       "       ['1041', 'id_1041', 'Product B', ..., 'Location 23', 'Region 4',\n",
       "        '16600.0'],\n",
       "       ['1042', 'id_1042', 'Product C', ..., 'Location 52', 'Region 6',\n",
       "        '15600.0'],\n",
       "       ['1043', 'id_1043', 'Product B', ..., 'Location 142', 'Region 6',\n",
       "        '16600.0']], dtype='<U14')"
      ]
     },
     "execution_count": 29,
     "metadata": {},
     "output_type": "execute_result"
    }
   ],
   "source": [
    "lending_co=np.genfromtxt('Lending-company-saving.csv',delimiter=',',dtype=np.str)\n",
    "lending_co"
   ]
  },
  {
   "cell_type": "code",
   "execution_count": 25,
   "id": "e0a61896",
   "metadata": {
    "scrolled": true
   },
   "outputs": [],
   "source": [
    "np.savetxt(\"Lending-Company-Saving.txt\",lending_co,fmt='%s',delimiter=',')"
   ]
  },
  {
   "cell_type": "code",
   "execution_count": 27,
   "id": "79ecfa0e",
   "metadata": {},
   "outputs": [],
   "source": [
    "Lending_Company_Savingtxt=np.genfromtxt('Lending-Company-Saving.txt',delimiter=',')"
   ]
  },
  {
   "cell_type": "code",
   "execution_count": 30,
   "id": "0bce013e",
   "metadata": {},
   "outputs": [
    {
     "data": {
      "text/plain": [
       "array([[      nan,       nan,       nan, ...,       nan,       nan,\n",
       "              nan],\n",
       "       [1.000e+00,       nan,       nan, ...,       nan,       nan,\n",
       "        1.660e+04],\n",
       "       [2.000e+00,       nan,       nan, ...,       nan,       nan,\n",
       "        1.660e+04],\n",
       "       ...,\n",
       "       [1.041e+03,       nan,       nan, ...,       nan,       nan,\n",
       "        1.660e+04],\n",
       "       [1.042e+03,       nan,       nan, ...,       nan,       nan,\n",
       "        1.560e+04],\n",
       "       [1.043e+03,       nan,       nan, ...,       nan,       nan,\n",
       "        1.660e+04]])"
      ]
     },
     "execution_count": 30,
     "metadata": {},
     "output_type": "execute_result"
    }
   ],
   "source": [
    "Lending_Company_Savingtxt"
   ]
  }
 ],
 "metadata": {
  "kernelspec": {
   "display_name": "Python 3 (ipykernel)",
   "language": "python",
   "name": "python3"
  },
  "language_info": {
   "codemirror_mode": {
    "name": "ipython",
    "version": 3
   },
   "file_extension": ".py",
   "mimetype": "text/x-python",
   "name": "python",
   "nbconvert_exporter": "python",
   "pygments_lexer": "ipython3",
   "version": "3.8.8"
  }
 },
 "nbformat": 4,
 "nbformat_minor": 5
}
