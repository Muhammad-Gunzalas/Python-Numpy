{
 "cells": [
  {
   "cell_type": "code",
   "execution_count": 1,
   "id": "fa349e1c",
   "metadata": {},
   "outputs": [],
   "source": [
    "import numpy as np"
   ]
  },
  {
   "cell_type": "markdown",
   "id": "e71e634a",
   "metadata": {},
   "source": [
    "### np.mean()"
   ]
  },
  {
   "cell_type": "code",
   "execution_count": 3,
   "id": "aa92c78f",
   "metadata": {},
   "outputs": [
    {
     "data": {
      "text/plain": [
       "array([[1, 1, 2, 3, 4],\n",
       "       [4, 5, 6, 7, 8],\n",
       "       [2, 3, 4, 5, 6]])"
      ]
     },
     "execution_count": 3,
     "metadata": {},
     "output_type": "execute_result"
    }
   ],
   "source": [
    "matrix_a=np.array([[1,1,2,3,4],[4,5,6,7,8],[2,3,4,5,6]])\n",
    "matrix_a"
   ]
  },
  {
   "cell_type": "code",
   "execution_count": 8,
   "id": "2a4ef451",
   "metadata": {},
   "outputs": [
    {
     "data": {
      "text/plain": [
       "array([2.2, 6. , 4. ])"
      ]
     },
     "execution_count": 8,
     "metadata": {},
     "output_type": "execute_result"
    }
   ],
   "source": [
    "np.mean(matrix_a,axis=1)"
   ]
  },
  {
   "cell_type": "code",
   "execution_count": 9,
   "id": "cbd582e8",
   "metadata": {},
   "outputs": [
    {
     "data": {
      "text/plain": [
       "4.066666666666666"
      ]
     },
     "execution_count": 9,
     "metadata": {},
     "output_type": "execute_result"
    }
   ],
   "source": [
    "matrix_a.mean()"
   ]
  },
  {
   "cell_type": "code",
   "execution_count": 10,
   "id": "c5a64cb0",
   "metadata": {},
   "outputs": [
    {
     "data": {
      "text/plain": [
       "array([[1.        , 1.        , 1.41421356, 1.73205081, 2.        ],\n",
       "       [2.        , 2.23606798, 2.44948974, 2.64575131, 2.82842712],\n",
       "       [1.41421356, 1.73205081, 2.        , 2.23606798, 2.44948974]])"
      ]
     },
     "execution_count": 10,
     "metadata": {},
     "output_type": "execute_result"
    }
   ],
   "source": [
    "np.sqrt(matrix_a)"
   ]
  },
  {
   "cell_type": "code",
   "execution_count": 13,
   "id": "718924ca",
   "metadata": {},
   "outputs": [
    {
     "data": {
      "text/plain": [
       "array([2, 3, 4, 5, 6], dtype=int64)"
      ]
     },
     "execution_count": 13,
     "metadata": {},
     "output_type": "execute_result"
    }
   ],
   "source": [
    "np.mean(matrix_a,axis=0, dtype=np.int64)"
   ]
  },
  {
   "cell_type": "markdown",
   "id": "108cde9e",
   "metadata": {},
   "source": [
    "### max and min values"
   ]
  },
  {
   "cell_type": "code",
   "execution_count": 16,
   "id": "b4507f33",
   "metadata": {},
   "outputs": [
    {
     "data": {
      "text/plain": [
       "1"
      ]
     },
     "execution_count": 16,
     "metadata": {},
     "output_type": "execute_result"
    }
   ],
   "source": [
    "np.amin(matrix_a)"
   ]
  },
  {
   "cell_type": "code",
   "execution_count": 18,
   "id": "cd9e8bf2",
   "metadata": {},
   "outputs": [
    {
     "data": {
      "text/plain": [
       "8"
      ]
     },
     "execution_count": 18,
     "metadata": {},
     "output_type": "execute_result"
    }
   ],
   "source": [
    "np.max(matrix_a)"
   ]
  },
  {
   "cell_type": "code",
   "execution_count": 19,
   "id": "d408bbf3",
   "metadata": {},
   "outputs": [
    {
     "data": {
      "text/plain": [
       "array([1, 1, 2, 3, 4])"
      ]
     },
     "execution_count": 19,
     "metadata": {},
     "output_type": "execute_result"
    }
   ],
   "source": [
    "np.minimum(matrix_a[0],matrix_a[2])"
   ]
  },
  {
   "cell_type": "code",
   "execution_count": 20,
   "id": "1ff41716",
   "metadata": {},
   "outputs": [
    {
     "data": {
      "text/plain": [
       "array([2, 3, 4, 5, 6])"
      ]
     },
     "execution_count": 20,
     "metadata": {},
     "output_type": "execute_result"
    }
   ],
   "source": [
    "np.maximum(matrix_a[0],matrix_a[2])"
   ]
  },
  {
   "cell_type": "code",
   "execution_count": 22,
   "id": "5ca552ba",
   "metadata": {
    "collapsed": true
   },
   "outputs": [
    {
     "ename": "TypeError",
     "evalue": "minimum() takes from 2 to 3 positional arguments but 1 were given",
     "output_type": "error",
     "traceback": [
      "\u001b[1;31m---------------------------------------------------------------------------\u001b[0m",
      "\u001b[1;31mTypeError\u001b[0m                                 Traceback (most recent call last)",
      "\u001b[1;32m<ipython-input-22-2f0c0192f6ed>\u001b[0m in \u001b[0;36m<module>\u001b[1;34m\u001b[0m\n\u001b[1;32m----> 1\u001b[1;33m \u001b[0mnp\u001b[0m\u001b[1;33m.\u001b[0m\u001b[0mminimum\u001b[0m\u001b[1;33m(\u001b[0m\u001b[0mmatrix_a\u001b[0m\u001b[1;33m[\u001b[0m\u001b[1;36m1\u001b[0m\u001b[1;33m]\u001b[0m\u001b[1;33m)\u001b[0m\u001b[1;33m\u001b[0m\u001b[1;33m\u001b[0m\u001b[0m\n\u001b[0m",
      "\u001b[1;31mTypeError\u001b[0m: minimum() takes from 2 to 3 positional arguments but 1 were given"
     ]
    }
   ],
   "source": [
    "np.minimum(matrix_a[1])"
   ]
  },
  {
   "cell_type": "code",
   "execution_count": 23,
   "id": "3fdaf0ea",
   "metadata": {},
   "outputs": [
    {
     "data": {
      "text/plain": [
       "array([1, 1, 2, 3, 4])"
      ]
     },
     "execution_count": 23,
     "metadata": {},
     "output_type": "execute_result"
    }
   ],
   "source": [
    "np.minimum.reduce(matrix_a)"
   ]
  },
  {
   "cell_type": "code",
   "execution_count": 24,
   "id": "6c209bea",
   "metadata": {},
   "outputs": [
    {
     "data": {
      "text/plain": [
       "array([4, 5, 6, 7, 8])"
      ]
     },
     "execution_count": 24,
     "metadata": {},
     "output_type": "execute_result"
    }
   ],
   "source": [
    "np.maximum.reduce(matrix_a)"
   ]
  },
  {
   "cell_type": "markdown",
   "id": "b0745890",
   "metadata": {},
   "source": [
    "### statistical function"
   ]
  },
  {
   "cell_type": "code",
   "execution_count": 25,
   "id": "0a649f86",
   "metadata": {},
   "outputs": [
    {
     "data": {
      "text/plain": [
       "array([[1, 1, 2, 3, 4],\n",
       "       [4, 5, 6, 7, 8],\n",
       "       [2, 3, 4, 5, 6]])"
      ]
     },
     "execution_count": 25,
     "metadata": {},
     "output_type": "execute_result"
    }
   ],
   "source": [
    "matrix_a=np.array([[1,1,2,3,4],[4,5,6,7,8],[2,3,4,5,6]])\n",
    "matrix_a"
   ]
  },
  {
   "cell_type": "code",
   "execution_count": 29,
   "id": "476f065e",
   "metadata": {},
   "outputs": [
    {
     "data": {
      "text/plain": [
       "array([3, 4, 4])"
      ]
     },
     "execution_count": 29,
     "metadata": {},
     "output_type": "execute_result"
    }
   ],
   "source": [
    "np.ptp(matrix_a,axis=0)"
   ]
  },
  {
   "cell_type": "code",
   "execution_count": 31,
   "id": "64db6c43",
   "metadata": {},
   "outputs": [
    {
     "data": {
      "text/plain": [
       "array([3, 4, 4])"
      ]
     },
     "execution_count": 31,
     "metadata": {},
     "output_type": "execute_result"
    }
   ],
   "source": [
    "np.ptp(matrix_a,axis=1)"
   ]
  },
  {
   "cell_type": "code",
   "execution_count": 34,
   "id": "bd9063d2",
   "metadata": {},
   "outputs": [
    {
     "data": {
      "text/plain": [
       "array([1, 1, 2, 2, 3, 3, 4, 4, 4, 5, 5, 6, 6, 7, 8])"
      ]
     },
     "execution_count": 34,
     "metadata": {},
     "output_type": "execute_result"
    }
   ],
   "source": [
    "np.sort(matrix_a,axis=None)"
   ]
  },
  {
   "cell_type": "code",
   "execution_count": 42,
   "id": "fee8a2bc",
   "metadata": {},
   "outputs": [
    {
     "data": {
      "text/plain": [
       "7"
      ]
     },
     "execution_count": 42,
     "metadata": {},
     "output_type": "execute_result"
    }
   ],
   "source": [
    "np.percentile(matrix_a,90,interpolation='nearest')"
   ]
  },
  {
   "cell_type": "code",
   "execution_count": 46,
   "id": "6954796a",
   "metadata": {},
   "outputs": [
    {
     "data": {
      "text/plain": [
       "5.0"
      ]
     },
     "execution_count": 46,
     "metadata": {},
     "output_type": "execute_result"
    }
   ],
   "source": [
    "np.quantile(matrix_a,0.70)"
   ]
  },
  {
   "cell_type": "markdown",
   "id": "ae4c59c1",
   "metadata": {},
   "source": [
    "### average and variance"
   ]
  },
  {
   "cell_type": "code",
   "execution_count": 47,
   "id": "b6f309a2",
   "metadata": {},
   "outputs": [
    {
     "data": {
      "text/plain": [
       "array([[1, 1, 2, 3, 4],\n",
       "       [4, 5, 6, 7, 8],\n",
       "       [2, 3, 4, 5, 6]])"
      ]
     },
     "execution_count": 47,
     "metadata": {},
     "output_type": "execute_result"
    }
   ],
   "source": [
    "matrix_a=np.array([[1,1,2,3,4],[4,5,6,7,8],[2,3,4,5,6]])\n",
    "matrix_a"
   ]
  },
  {
   "cell_type": "code",
   "execution_count": 49,
   "id": "ed456a9e",
   "metadata": {},
   "outputs": [
    {
     "data": {
      "text/plain": [
       "4.0"
      ]
     },
     "execution_count": 49,
     "metadata": {},
     "output_type": "execute_result"
    }
   ],
   "source": [
    "np.median(matrix_a)"
   ]
  },
  {
   "cell_type": "code",
   "execution_count": 52,
   "id": "7a5858fe",
   "metadata": {},
   "outputs": [
    {
     "data": {
      "text/plain": [
       "array([1, 1, 2, 2, 3, 3, 4, 4, 4, 5, 5, 6, 6, 7, 8])"
      ]
     },
     "execution_count": 52,
     "metadata": {},
     "output_type": "execute_result"
    }
   ],
   "source": [
    "np.sort(matrix_a,axis=None)"
   ]
  },
  {
   "cell_type": "code",
   "execution_count": 53,
   "id": "996279b9",
   "metadata": {},
   "outputs": [
    {
     "data": {
      "text/plain": [
       "4.066666666666666"
      ]
     },
     "execution_count": 53,
     "metadata": {},
     "output_type": "execute_result"
    }
   ],
   "source": [
    "np.average(matrix_a)"
   ]
  },
  {
   "cell_type": "code",
   "execution_count": 54,
   "id": "c79ba948",
   "metadata": {},
   "outputs": [
    {
     "data": {
      "text/plain": [
       "4.195555555555556"
      ]
     },
     "execution_count": 54,
     "metadata": {},
     "output_type": "execute_result"
    }
   ],
   "source": [
    "np.var(matrix_a)"
   ]
  },
  {
   "cell_type": "code",
   "execution_count": 55,
   "id": "60b35aaf",
   "metadata": {},
   "outputs": [
    {
     "data": {
      "text/plain": [
       "2.0483055327649624"
      ]
     },
     "execution_count": 55,
     "metadata": {},
     "output_type": "execute_result"
    }
   ],
   "source": [
    "np.std(matrix_a)"
   ]
  },
  {
   "cell_type": "markdown",
   "id": "1aa89179",
   "metadata": {},
   "source": [
    "### covariance and correlation"
   ]
  },
  {
   "cell_type": "code",
   "execution_count": 56,
   "id": "e1313a29",
   "metadata": {},
   "outputs": [
    {
     "data": {
      "text/plain": [
       "array([[1, 1, 2, 3, 4],\n",
       "       [4, 5, 6, 7, 8],\n",
       "       [2, 3, 4, 5, 6]])"
      ]
     },
     "execution_count": 56,
     "metadata": {},
     "output_type": "execute_result"
    }
   ],
   "source": [
    "matrix_a=np.array([[1,1,2,3,4],[4,5,6,7,8],[2,3,4,5,6]])\n",
    "matrix_a"
   ]
  },
  {
   "cell_type": "code",
   "execution_count": 57,
   "id": "2846636c",
   "metadata": {},
   "outputs": [
    {
     "data": {
      "text/plain": [
       "array([[1.7, 2. , 2. ],\n",
       "       [2. , 2.5, 2.5],\n",
       "       [2. , 2.5, 2.5]])"
      ]
     },
     "execution_count": 57,
     "metadata": {},
     "output_type": "execute_result"
    }
   ],
   "source": [
    "np.cov(matrix_a)"
   ]
  },
  {
   "cell_type": "code",
   "execution_count": 60,
   "id": "a8e89ad4",
   "metadata": {},
   "outputs": [
    {
     "data": {
      "text/plain": [
       "array([[1.       , 0.9701425, 0.9701425],\n",
       "       [0.9701425, 1.       , 1.       ],\n",
       "       [0.9701425, 1.       , 1.       ]])"
      ]
     },
     "execution_count": 60,
     "metadata": {},
     "output_type": "execute_result"
    }
   ],
   "source": [
    "np.corrcoef(matrix_a)"
   ]
  },
  {
   "cell_type": "markdown",
   "id": "f8180924",
   "metadata": {},
   "source": [
    "### histogram"
   ]
  },
  {
   "cell_type": "code",
   "execution_count": 61,
   "id": "5f013744",
   "metadata": {},
   "outputs": [
    {
     "data": {
      "text/plain": [
       "array([[1, 1, 2, 3, 4],\n",
       "       [4, 5, 6, 7, 8],\n",
       "       [2, 3, 4, 5, 6]])"
      ]
     },
     "execution_count": 61,
     "metadata": {},
     "output_type": "execute_result"
    }
   ],
   "source": [
    "matrix_a=np.array([[1,1,2,3,4],[4,5,6,7,8],[2,3,4,5,6]])\n",
    "matrix_a"
   ]
  },
  {
   "cell_type": "code",
   "execution_count": 63,
   "id": "33a461df",
   "metadata": {},
   "outputs": [
    {
     "data": {
      "text/plain": [
       "array([1, 1, 2, 2, 3, 3, 4, 4, 4, 5, 5, 6, 6, 7, 8])"
      ]
     },
     "execution_count": 63,
     "metadata": {},
     "output_type": "execute_result"
    }
   ],
   "source": [
    "np.sort(matrix_a,axis=None)"
   ]
  },
  {
   "cell_type": "code",
   "execution_count": 66,
   "id": "44e198e0",
   "metadata": {},
   "outputs": [
    {
     "data": {
      "text/plain": [
       "(array([4, 5, 4, 2], dtype=int64), array([1.  , 2.75, 4.5 , 6.25, 8.  ]))"
      ]
     },
     "execution_count": 66,
     "metadata": {},
     "output_type": "execute_result"
    }
   ],
   "source": [
    "np.histogram(matrix_a,bins=4)"
   ]
  },
  {
   "cell_type": "code",
   "execution_count": 67,
   "id": "84ab173b",
   "metadata": {},
   "outputs": [],
   "source": [
    "import matplotlib.pyplot as plt"
   ]
  },
  {
   "cell_type": "code",
   "execution_count": 70,
   "id": "88af6e25",
   "metadata": {},
   "outputs": [
    {
     "ename": "AttributeError",
     "evalue": "module 'matplotlib.pyplot' has no attribute 'ist'",
     "output_type": "error",
     "traceback": [
      "\u001b[1;31m---------------------------------------------------------------------------\u001b[0m",
      "\u001b[1;31mAttributeError\u001b[0m                            Traceback (most recent call last)",
      "\u001b[1;32m<ipython-input-70-93d8143610eb>\u001b[0m in \u001b[0;36m<module>\u001b[1;34m\u001b[0m\n\u001b[1;32m----> 1\u001b[1;33m \u001b[0mplt\u001b[0m\u001b[1;33m.\u001b[0m\u001b[0mist\u001b[0m\u001b[1;33m(\u001b[0m\u001b[0mmatrix_a\u001b[0m\u001b[1;33m.\u001b[0m\u001b[0mflat\u001b[0m \u001b[1;33m,\u001b[0m \u001b[0mbins\u001b[0m \u001b[1;33m=\u001b[0m \u001b[0mnp\u001b[0m\u001b[1;33m.\u001b[0m\u001b[0mhistogram\u001b[0m\u001b[1;33m(\u001b[0m\u001b[0mmatrix_a\u001b[0m\u001b[1;33m)\u001b[0m\u001b[1;33m[\u001b[0m\u001b[1;36m1\u001b[0m\u001b[1;33m]\u001b[0m\u001b[1;33m)\u001b[0m\u001b[1;33m\u001b[0m\u001b[1;33m\u001b[0m\u001b[0m\n\u001b[0m\u001b[0;32m      2\u001b[0m \u001b[0mplt\u001b[0m\u001b[1;33m.\u001b[0m\u001b[0mshow\u001b[0m\u001b[1;33m(\u001b[0m\u001b[1;33m)\u001b[0m\u001b[1;33m\u001b[0m\u001b[1;33m\u001b[0m\u001b[0m\n",
      "\u001b[1;31mAttributeError\u001b[0m: module 'matplotlib.pyplot' has no attribute 'ist'"
     ]
    }
   ],
   "source": [
    "plt.h/t(matrix_a.flat , bins = np.histogram(matrix_a)[1])\n",
    "plt.show()"
   ]
  },
  {
   "cell_type": "code",
   "execution_count": 71,
   "id": "9e123d2b",
   "metadata": {},
   "outputs": [
    {
     "data": {
      "image/png": "[encoded data removed]",
      "text/plain": [
       "<Figure size 432x288 with 1 Axes>"
      ]
     },
     "metadata": {
      "needs_background": "light"
     },
     "output_type": "display_data"
    }
   ],
   "source": [
    "plt.hist(matrix_a.flat , bins = np.histogram(matrix_a)[1])\n",
    "plt.show()"
   ]
  },
  {
   "cell_type": "code",
   "execution_count": 73,
   "id": "cf6f8af0",
   "metadata": {},
   "outputs": [
    {
     "data": {
      "text/plain": [
       "(array([[1., 1., 0., 0.],\n",
       "        [0., 0., 1., 0.],\n",
       "        [0., 0., 0., 1.],\n",
       "        [0., 0., 0., 1.]]),\n",
       " array([1.  , 1.75, 2.5 , 3.25, 4.  ]),\n",
       " array([4., 5., 6., 7., 8.]))"
      ]
     },
     "execution_count": 73,
     "metadata": {},
     "output_type": "execute_result"
    }
   ],
   "source": [
    "np.histogram2d(matrix_a[0],matrix_a[1],bins=4)"
   ]
  },
  {
   "cell_type": "code",
   "execution_count": 76,
   "id": "1a2c8e2b",
   "metadata": {},
   "outputs": [
    {
     "data": {
      "text/plain": [
       "(array([[[1., 0., 0., 0.],\n",
       "         [0., 1., 0., 0.],\n",
       "         [0., 0., 0., 0.],\n",
       "         [0., 0., 0., 0.]],\n",
       " \n",
       "        [[0., 0., 0., 0.],\n",
       "         [0., 0., 0., 0.],\n",
       "         [0., 0., 1., 0.],\n",
       "         [0., 0., 0., 0.]],\n",
       " \n",
       "        [[0., 0., 0., 0.],\n",
       "         [0., 0., 0., 0.],\n",
       "         [0., 0., 0., 0.],\n",
       "         [0., 0., 0., 1.]],\n",
       " \n",
       "        [[0., 0., 0., 0.],\n",
       "         [0., 0., 0., 0.],\n",
       "         [0., 0., 0., 0.],\n",
       "         [0., 0., 0., 1.]]]),\n",
       " [array([1.  , 1.75, 2.5 , 3.25, 4.  ]),\n",
       "  array([4., 5., 6., 7., 8.]),\n",
       "  array([2., 3., 4., 5., 6.])])"
      ]
     },
     "execution_count": 76,
     "metadata": {},
     "output_type": "execute_result"
    }
   ],
   "source": [
    " np.histogramdd(matrix_a.transpose(),bins=4)"
   ]
  },
  {
   "cell_type": "markdown",
   "id": "2913697d",
   "metadata": {},
   "source": [
    "### NAN equilent function\n"
   ]
  },
  {
   "cell_type": "code",
   "execution_count": 77,
   "id": "356acf46",
   "metadata": {},
   "outputs": [
    {
     "data": {
      "text/plain": [
       "array([[1, 1, 2, 3, 4],\n",
       "       [4, 5, 6, 7, 8],\n",
       "       [2, 3, 4, 5, 6]])"
      ]
     },
     "execution_count": 77,
     "metadata": {},
     "output_type": "execute_result"
    }
   ],
   "source": [
    "matrix_a=np.array([[1,1,2,3,4],[4,5,6,7,8],[2,3,4,5,6]])\n",
    "matrix_a"
   ]
  },
  {
   "cell_type": "code",
   "execution_count": 78,
   "id": "a3617216",
   "metadata": {},
   "outputs": [
    {
     "data": {
      "text/plain": [
       "4.066666666666666"
      ]
     },
     "execution_count": 78,
     "metadata": {},
     "output_type": "execute_result"
    }
   ],
   "source": [
    "np.nanmean(matrix_a)"
   ]
  },
  {
   "cell_type": "code",
   "execution_count": 79,
   "id": "af206154",
   "metadata": {},
   "outputs": [
    {
     "data": {
      "text/plain": [
       "4.066666666666666"
      ]
     },
     "execution_count": 79,
     "metadata": {},
     "output_type": "execute_result"
    }
   ],
   "source": [
    "np.mean(matrix_a)"
   ]
  },
  {
   "cell_type": "code",
   "execution_count": 80,
   "id": "643ce7bf",
   "metadata": {},
   "outputs": [
    {
     "data": {
      "text/plain": [
       "array([[ 1.,  1.,  2.,  3.,  4.],\n",
       "       [ 4.,  5., nan,  7.,  8.],\n",
       "       [ 2.,  3.,  4.,  5.,  6.]])"
      ]
     },
     "execution_count": 80,
     "metadata": {},
     "output_type": "execute_result"
    }
   ],
   "source": [
    "matrix_b=np.array([[1,1,2,3,4],[4,5,np.nan,7,8],[2,3,4,5,6]])\n",
    "matrix_b"
   ]
  },
  {
   "cell_type": "code",
   "execution_count": 81,
   "id": "452365d5",
   "metadata": {},
   "outputs": [
    {
     "data": {
      "text/plain": [
       "3.9285714285714284"
      ]
     },
     "execution_count": 81,
     "metadata": {},
     "output_type": "execute_result"
    }
   ],
   "source": [
    "np.nanmean(matrix_b)"
   ]
  },
  {
   "cell_type": "code",
   "execution_count": 82,
   "id": "e38b0ee2",
   "metadata": {},
   "outputs": [
    {
     "data": {
      "text/plain": [
       "nan"
      ]
     },
     "execution_count": 82,
     "metadata": {},
     "output_type": "execute_result"
    }
   ],
   "source": [
    "np.mean(matrix_b)"
   ]
  },
  {
   "cell_type": "code",
   "execution_count": 83,
   "id": "1fb74c9b",
   "metadata": {},
   "outputs": [
    {
     "data": {
      "text/plain": [
       "4.209183673469387"
      ]
     },
     "execution_count": 83,
     "metadata": {},
     "output_type": "execute_result"
    }
   ],
   "source": [
    "np.nanvar(matrix_b)"
   ]
  },
  {
   "cell_type": "code",
   "execution_count": 84,
   "id": "85b7ec98",
   "metadata": {},
   "outputs": [
    {
     "data": {
      "text/plain": [
       "5.0"
      ]
     },
     "execution_count": 84,
     "metadata": {},
     "output_type": "execute_result"
    }
   ],
   "source": [
    "np.nanquantile(matrix_b,0.7)"
   ]
  },
  {
   "cell_type": "code",
   "execution_count": null,
   "id": "504583c9",
   "metadata": {},
   "outputs": [],
   "source": []
  },
  {
   "cell_type": "code",
   "execution_count": null,
   "id": "1230cc4a",
   "metadata": {},
   "outputs": [],
   "source": []
  },
  {
   "cell_type": "code",
   "execution_count": null,
   "id": "c21df4dc",
   "metadata": {},
   "outputs": [],
   "source": []
  },
  {
   "cell_type": "code",
   "execution_count": null,
   "id": "27107d18",
   "metadata": {},
   "outputs": [],
   "source": []
  },
  {
   "cell_type": "code",
   "execution_count": null,
   "id": "8d98c33c",
   "metadata": {},
   "outputs": [],
   "source": []
  },
  {
   "cell_type": "code",
   "execution_count": null,
   "id": "900d10b8",
   "metadata": {},
   "outputs": [],
   "source": []
  }
 ],
 "metadata": {
  "kernelspec": {
   "display_name": "Python 3",
   "language": "python",
   "name": "python3"
  },
  "language_info": {
   "codemirror_mode": {
    "name": "ipython",
    "version": 3
   },
   "file_extension": ".py",
   "mimetype": "text/x-python",
   "name": "python",
   "nbconvert_exporter": "python",
   "pygments_lexer": "ipython3",
   "version": "3.8.8"
  }
 },
 "nbformat": 4,
 "nbformat_minor": 5
}
