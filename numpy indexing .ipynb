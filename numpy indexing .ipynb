{
 "cells": [
  {
   "cell_type": "code",
   "execution_count": 2,
   "id": "77397640",
   "metadata": {},
   "outputs": [],
   "source": [
    "import numpy as np"
   ]
  },
  {
   "cell_type": "markdown",
   "id": "e916e522",
   "metadata": {},
   "source": [
    "#indexing \n"
   ]
  },
  {
   "cell_type": "code",
   "execution_count": 3,
   "id": "59927215",
   "metadata": {},
   "outputs": [
    {
     "data": {
      "text/plain": [
       "array([[1, 2, 3],\n",
       "       [2, 3, 4]])"
      ]
     },
     "execution_count": 3,
     "metadata": {},
     "output_type": "execute_result"
    }
   ],
   "source": [
    "array_a=np.array([[1,2,3],[2,3,4]])\n",
    "array_a"
   ]
  },
  {
   "cell_type": "code",
   "execution_count": 7,
   "id": "77e28248",
   "metadata": {},
   "outputs": [
    {
     "data": {
      "text/plain": [
       "3"
      ]
     },
     "execution_count": 7,
     "metadata": {},
     "output_type": "execute_result"
    }
   ],
   "source": [
    "array_a[0][2]"
   ]
  },
  {
   "cell_type": "code",
   "execution_count": 8,
   "id": "22bf3853",
   "metadata": {},
   "outputs": [
    {
     "data": {
      "text/plain": [
       "2"
      ]
     },
     "execution_count": 8,
     "metadata": {},
     "output_type": "execute_result"
    }
   ],
   "source": [
    "array_a[1][0]"
   ]
  },
  {
   "cell_type": "code",
   "execution_count": 9,
   "id": "5e65d217",
   "metadata": {},
   "outputs": [
    {
     "data": {
      "text/plain": [
       "3"
      ]
     },
     "execution_count": 9,
     "metadata": {},
     "output_type": "execute_result"
    }
   ],
   "source": [
    "array_a[0,2]"
   ]
  },
  {
   "cell_type": "code",
   "execution_count": 12,
   "id": "64e11d93",
   "metadata": {},
   "outputs": [
    {
     "data": {
      "text/plain": [
       "array([1, 2])"
      ]
     },
     "execution_count": 12,
     "metadata": {},
     "output_type": "execute_result"
    }
   ],
   "source": [
    "array_a[:,0]"
   ]
  },
  {
   "cell_type": "code",
   "execution_count": 13,
   "id": "fb27ab81",
   "metadata": {},
   "outputs": [
    {
     "data": {
      "text/plain": [
       "3"
      ]
     },
     "execution_count": 13,
     "metadata": {},
     "output_type": "execute_result"
    }
   ],
   "source": [
    "array_a[0][-1]"
   ]
  },
  {
   "cell_type": "code",
   "execution_count": 15,
   "id": "ea0cf25f",
   "metadata": {},
   "outputs": [
    {
     "data": {
      "text/plain": [
       "array([1, 2, 3])"
      ]
     },
     "execution_count": 15,
     "metadata": {},
     "output_type": "execute_result"
    }
   ],
   "source": [
    "array_a[-0]"
   ]
  },
  {
   "cell_type": "markdown",
   "id": "190628bd",
   "metadata": {},
   "source": [
    "### assigning values"
   ]
  },
  {
   "cell_type": "code",
   "execution_count": 17,
   "id": "8c556e94",
   "metadata": {},
   "outputs": [],
   "source": [
    "array_a[0][2]=8"
   ]
  },
  {
   "cell_type": "code",
   "execution_count": 19,
   "id": "c4db3cbf",
   "metadata": {},
   "outputs": [
    {
     "data": {
      "text/plain": [
       "array([[1, 2, 8],\n",
       "       [2, 3, 4]])"
      ]
     },
     "execution_count": 19,
     "metadata": {},
     "output_type": "execute_result"
    }
   ],
   "source": [
    "array_a"
   ]
  },
  {
   "cell_type": "code",
   "execution_count": 20,
   "id": "252765d7",
   "metadata": {},
   "outputs": [
    {
     "data": {
      "text/plain": [
       "array([[9, 2, 8],\n",
       "       [9, 3, 4]])"
      ]
     },
     "execution_count": 20,
     "metadata": {},
     "output_type": "execute_result"
    }
   ],
   "source": [
    "array_a[:,0]=9\n",
    "array_a"
   ]
  },
  {
   "cell_type": "code",
   "execution_count": 21,
   "id": "716ff17c",
   "metadata": {},
   "outputs": [],
   "source": [
    "array_a[:]=9"
   ]
  },
  {
   "cell_type": "code",
   "execution_count": 22,
   "id": "b089f2d5",
   "metadata": {},
   "outputs": [
    {
     "data": {
      "text/plain": [
       "array([[9, 9, 9],\n",
       "       [9, 9, 9]])"
      ]
     },
     "execution_count": 22,
     "metadata": {},
     "output_type": "execute_result"
    }
   ],
   "source": [
    "array_a"
   ]
  },
  {
   "cell_type": "code",
   "execution_count": 23,
   "id": "ff2667f3",
   "metadata": {},
   "outputs": [
    {
     "data": {
      "text/plain": [
       "array([[1, 2, 3],\n",
       "       [2, 3, 4]])"
      ]
     },
     "execution_count": 23,
     "metadata": {},
     "output_type": "execute_result"
    }
   ],
   "source": [
    "array_a=np.array([[1,2,3],[2,3,4]])\n",
    "array_a"
   ]
  },
  {
   "cell_type": "markdown",
   "id": "bc8ef904",
   "metadata": {},
   "source": [
    "### element wise properties"
   ]
  },
  {
   "cell_type": "code",
   "execution_count": 24,
   "id": "019e924e",
   "metadata": {},
   "outputs": [],
   "source": [
    "array_b=array_a"
   ]
  },
  {
   "cell_type": "code",
   "execution_count": 25,
   "id": "d72d334f",
   "metadata": {},
   "outputs": [
    {
     "data": {
      "text/plain": [
       "array([[1, 2, 3],\n",
       "       [2, 3, 4]])"
      ]
     },
     "execution_count": 25,
     "metadata": {},
     "output_type": "execute_result"
    }
   ],
   "source": [
    "array_b"
   ]
  },
  {
   "cell_type": "code",
   "execution_count": 26,
   "id": "60c21022",
   "metadata": {},
   "outputs": [],
   "source": [
    "array_a=np.array([1,2,5])"
   ]
  },
  {
   "cell_type": "code",
   "execution_count": 27,
   "id": "cfb2f885",
   "metadata": {},
   "outputs": [
    {
     "data": {
      "text/plain": [
       "array([1, 2, 5])"
      ]
     },
     "execution_count": 27,
     "metadata": {},
     "output_type": "execute_result"
    }
   ],
   "source": [
    "array_a"
   ]
  },
  {
   "cell_type": "code",
   "execution_count": 28,
   "id": "c64a7fa6",
   "metadata": {},
   "outputs": [
    {
     "data": {
      "text/plain": [
       "array([3, 4, 7])"
      ]
     },
     "execution_count": 28,
     "metadata": {},
     "output_type": "execute_result"
    }
   ],
   "source": [
    "array_a+2"
   ]
  },
  {
   "cell_type": "code",
   "execution_count": 29,
   "id": "3a0e2a4d",
   "metadata": {},
   "outputs": [
    {
     "data": {
      "text/plain": [
       "array([[2, 4, 6],\n",
       "       [4, 6, 8]])"
      ]
     },
     "execution_count": 29,
     "metadata": {},
     "output_type": "execute_result"
    }
   ],
   "source": [
    "array_b*2"
   ]
  },
  {
   "cell_type": "code",
   "execution_count": 32,
   "id": "9e516bea",
   "metadata": {},
   "outputs": [
    {
     "data": {
      "text/plain": [
       "array([[2, 4, 8],\n",
       "       [3, 5, 9]])"
      ]
     },
     "execution_count": 32,
     "metadata": {},
     "output_type": "execute_result"
    }
   ],
   "source": [
    "array_a+array_b"
   ]
  },
  {
   "cell_type": "markdown",
   "id": "dc58acff",
   "metadata": {},
   "source": [
    "### data types of numpy"
   ]
  },
  {
   "cell_type": "code",
   "execution_count": 41,
   "id": "8b60b7b8",
   "metadata": {},
   "outputs": [
    {
     "data": {
      "text/plain": [
       "array([[1.+0.j, 2.+0.j, 3.+0.j],\n",
       "       [2.+0.j, 3.+0.j, 4.+0.j]], dtype=complex64)"
      ]
     },
     "execution_count": 41,
     "metadata": {},
     "output_type": "execute_result"
    }
   ],
   "source": [
    "array_a=np.array([[1,2,3],[2,3,4]],dtype =np.complex64)\n",
    "array_a"
   ]
  },
  {
   "cell_type": "code",
   "execution_count": 42,
   "id": "07a97dca",
   "metadata": {},
   "outputs": [
    {
     "data": {
      "text/plain": [
       "array([[1., 2., 3.],\n",
       "       [2., 3., 4.]])"
      ]
     },
     "execution_count": 42,
     "metadata": {},
     "output_type": "execute_result"
    }
   ],
   "source": [
    "array_a=np.array([[1,2,3],[2,3,4]],dtype =np.float64)\n",
    "array_a"
   ]
  },
  {
   "cell_type": "code",
   "execution_count": 44,
   "id": "4e423cca",
   "metadata": {},
   "outputs": [
    {
     "name": "stderr",
     "output_type": "stream",
     "text": [
      "<ipython-input-44-5bcdf7c197aa>:1: DeprecationWarning: `np.bool` is a deprecated alias for the builtin `bool`. To silence this warning, use `bool` by itself. Doing this will not modify any behavior and is safe. If you specifically wanted the numpy scalar type, use `np.bool_` here.\n",
      "Deprecated in NumPy 1.20; for more details and guidance: https://numpy.org/devdocs/release/1.20.0-notes.html#deprecations\n",
      "  array_a=np.array([[1,0,3],[2,3,4]],dtype =np.bool)\n"
     ]
    },
    {
     "data": {
      "text/plain": [
       "array([[ True, False,  True],\n",
       "       [ True,  True,  True]])"
      ]
     },
     "execution_count": 44,
     "metadata": {},
     "output_type": "execute_result"
    }
   ],
   "source": [
    "array_a=np.array([[1,0,3],[2,3,4]],dtype =np.bool)\n",
    "array_a"
   ]
  },
  {
   "cell_type": "code",
   "execution_count": 49,
   "id": "63f01a9c",
   "metadata": {},
   "outputs": [
    {
     "name": "stderr",
     "output_type": "stream",
     "text": [
      "<ipython-input-49-85e9c1e72a16>:1: DeprecationWarning: `np.str` is a deprecated alias for the builtin `str`. To silence this warning, use `str` by itself. Doing this will not modify any behavior and is safe. If you specifically wanted the numpy scalar type, use `np.str_` here.\n",
      "Deprecated in NumPy 1.20; for more details and guidance: https://numpy.org/devdocs/release/1.20.0-notes.html#deprecations\n",
      "  array_a=np.array([[1,0,33],[2,3,4]],dtype =np.str)\n"
     ]
    },
    {
     "data": {
      "text/plain": [
       "array([['1', '0', '33'],\n",
       "       ['2', '3', '4']], dtype='<U2')"
      ]
     },
     "execution_count": 49,
     "metadata": {},
     "output_type": "execute_result"
    }
   ],
   "source": [
    "array_a=np.array([[1,0,33],[2,3,4]],dtype =np.str)\n",
    "array_a"
   ]
  },
  {
   "cell_type": "markdown",
   "id": "65b67a0f",
   "metadata": {},
   "source": [
    "### broadcasting"
   ]
  },
  {
   "cell_type": "code",
   "execution_count": 50,
   "id": "d028c5ea",
   "metadata": {},
   "outputs": [
    {
     "data": {
      "text/plain": [
       "array([1, 2, 5])"
      ]
     },
     "execution_count": 50,
     "metadata": {},
     "output_type": "execute_result"
    }
   ],
   "source": [
    "array_a=np.array([1,2,5])\n",
    "array_a"
   ]
  },
  {
   "cell_type": "code",
   "execution_count": 51,
   "id": "fab51566",
   "metadata": {},
   "outputs": [
    {
     "data": {
      "text/plain": [
       "array([[1],\n",
       "       [2]])"
      ]
     },
     "execution_count": 51,
     "metadata": {},
     "output_type": "execute_result"
    }
   ],
   "source": [
    "array_b=np.array([[1],\n",
    "                [2]])\n",
    "array_b"
   ]
  },
  {
   "cell_type": "code",
   "execution_count": 54,
   "id": "a8627695",
   "metadata": {},
   "outputs": [
    {
     "data": {
      "text/plain": [
       "array([[1, 2, 5],\n",
       "       [6, 7, 8]])"
      ]
     },
     "execution_count": 54,
     "metadata": {},
     "output_type": "execute_result"
    }
   ],
   "source": [
    "array_c=np.array([[1,2,5],[6,7,8]])\n",
    "array_c"
   ]
  },
  {
   "cell_type": "code",
   "execution_count": 58,
   "id": "56037b93",
   "metadata": {},
   "outputs": [
    {
     "data": {
      "text/plain": [
       "array([[ 2.,  3.,  6.],\n",
       "       [ 8.,  9., 10.]])"
      ]
     },
     "execution_count": 58,
     "metadata": {},
     "output_type": "execute_result"
    }
   ],
   "source": [
    "np.add(array_b,array_c, dtype =np.float64)"
   ]
  },
  {
   "cell_type": "code",
   "execution_count": 64,
   "id": "530d2ecd",
   "metadata": {},
   "outputs": [
    {
     "data": {
      "text/plain": [
       "array([2.66666667, 7.        ])"
      ]
     },
     "execution_count": 64,
     "metadata": {},
     "output_type": "execute_result"
    }
   ],
   "source": [
    "   np.mean(array_c,axis=1)"
   ]
  },
  {
   "cell_type": "markdown",
   "id": "4e149b2a",
   "metadata": {},
   "source": [
    "###slicing\n"
   ]
  },
  {
   "cell_type": "code",
   "execution_count": 3,
   "id": "564d9a4f",
   "metadata": {},
   "outputs": [
    {
     "data": {
      "text/plain": [
       "array([[1, 2, 3],\n",
       "       [4, 5, 6]])"
      ]
     },
     "execution_count": 3,
     "metadata": {},
     "output_type": "execute_result"
    }
   ],
   "source": [
    "array_a=np.array([[1,2,3],[4,5,6]])\n",
    "array_a"
   ]
  },
  {
   "cell_type": "code",
   "execution_count": 4,
   "id": "dfa5fce9",
   "metadata": {},
   "outputs": [
    {
     "data": {
      "text/plain": [
       "array([], shape=(0, 3), dtype=int32)"
      ]
     },
     "execution_count": 4,
     "metadata": {},
     "output_type": "execute_result"
    }
   ],
   "source": [
    "array_a[2:]"
   ]
  },
  {
   "cell_type": "code",
   "execution_count": 9,
   "id": "ba1f509c",
   "metadata": {},
   "outputs": [
    {
     "data": {
      "text/plain": [
       "array([4, 5, 6])"
      ]
     },
     "execution_count": 9,
     "metadata": {},
     "output_type": "execute_result"
    }
   ],
   "source": [
    "array_a[1]"
   ]
  },
  {
   "cell_type": "code",
   "execution_count": 10,
   "id": "4e2f3da6",
   "metadata": {},
   "outputs": [
    {
     "data": {
      "text/plain": [
       "array([[1, 2, 3],\n",
       "       [4, 5, 6]])"
      ]
     },
     "execution_count": 10,
     "metadata": {},
     "output_type": "execute_result"
    }
   ],
   "source": [
    "array_a[:]"
   ]
  },
  {
   "cell_type": "code",
   "execution_count": 15,
   "id": "c896c1ee",
   "metadata": {},
   "outputs": [
    {
     "data": {
      "text/plain": [
       "array([[4, 5, 6]])"
      ]
     },
     "execution_count": 15,
     "metadata": {},
     "output_type": "execute_result"
    }
   ],
   "source": [
    "array_a[1:]"
   ]
  },
  {
   "cell_type": "code",
   "execution_count": 19,
   "id": "2dbc5f5a",
   "metadata": {},
   "outputs": [
    {
     "data": {
      "text/plain": [
       "array([[2, 3],\n",
       "       [5, 6]])"
      ]
     },
     "execution_count": 19,
     "metadata": {},
     "output_type": "execute_result"
    }
   ],
   "source": [
    "array_a[0:,1:]"
   ]
  },
  {
   "cell_type": "code",
   "execution_count": 60,
   "id": "f269d245",
   "metadata": {},
   "outputs": [
    {
     "data": {
      "text/plain": [
       "array([[1, 2, 5],\n",
       "       [6, 7, 8]])"
      ]
     },
     "execution_count": 60,
     "metadata": {},
     "output_type": "execute_result"
    }
   ],
   "source": [
    "array_c"
   ]
  }
 ],
 "metadata": {
  "kernelspec": {
   "display_name": "Python 3 (ipykernel)",
   "language": "python",
   "name": "python3"
  },
  "language_info": {
   "codemirror_mode": {
    "name": "ipython",
    "version": 3
   },
   "file_extension": ".py",
   "mimetype": "text/x-python",
   "name": "python",
   "nbconvert_exporter": "python",
   "pygments_lexer": "ipython3",
   "version": "3.8.8"
  }
 },
 "nbformat": 4,
 "nbformat_minor": 5
}
