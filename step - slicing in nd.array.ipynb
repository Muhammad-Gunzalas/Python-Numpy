{
 "cells": [
  {
   "cell_type": "markdown",
   "id": "d3e18391",
   "metadata": {},
   "source": [
    "### "
   ]
  },
  {
   "cell_type": "markdown",
   "id": "49e9f870",
   "metadata": {},
   "source": [
    "### step wise slicing "
   ]
  },
  {
   "cell_type": "code",
   "execution_count": 1,
   "id": "bc64554c",
   "metadata": {},
   "outputs": [],
   "source": [
    "import numpy as np"
   ]
  },
  {
   "cell_type": "code",
   "execution_count": 2,
   "id": "53bcd903",
   "metadata": {},
   "outputs": [
    {
     "data": {
      "text/plain": [
       "array([[1, 1, 2, 2, 4],\n",
       "       [2, 3, 4, 5, 1],\n",
       "       [3, 2, 1, 4, 5]])"
      ]
     },
     "execution_count": 2,
     "metadata": {},
     "output_type": "execute_result"
    }
   ],
   "source": [
    "array=np.array([[1,1,2,2,4],[2,3,4,5,1],[3,2,1,4,5]])\n",
    "array"
   ]
  },
  {
   "cell_type": "code",
   "execution_count": 3,
   "id": "ee525b07",
   "metadata": {},
   "outputs": [
    {
     "data": {
      "text/plain": [
       "array([[1, 1, 2, 2, 4],\n",
       "       [2, 3, 4, 5, 1],\n",
       "       [3, 2, 1, 4, 5]])"
      ]
     },
     "execution_count": 3,
     "metadata": {},
     "output_type": "execute_result"
    }
   ],
   "source": [
    "array[:]"
   ]
  },
  {
   "cell_type": "code",
   "execution_count": 6,
   "id": "29d4fd65",
   "metadata": {},
   "outputs": [
    {
     "data": {
      "text/plain": [
       "array([[1, 1, 2, 2, 4],\n",
       "       [3, 2, 1, 4, 5]])"
      ]
     },
     "execution_count": 6,
     "metadata": {},
     "output_type": "execute_result"
    }
   ],
   "source": [
    "array[::2,::]"
   ]
  },
  {
   "cell_type": "code",
   "execution_count": 7,
   "id": "2abaad73",
   "metadata": {},
   "outputs": [
    {
     "data": {
      "text/plain": [
       "array([[1, 2, 4],\n",
       "       [2, 4, 1],\n",
       "       [3, 1, 5]])"
      ]
     },
     "execution_count": 7,
     "metadata": {},
     "output_type": "execute_result"
    }
   ],
   "source": [
    "array[::,::2]"
   ]
  },
  {
   "cell_type": "code",
   "execution_count": 8,
   "id": "d2f17c61",
   "metadata": {},
   "outputs": [
    {
     "data": {
      "text/plain": [
       "array([[1, 2, 4],\n",
       "       [3, 1, 5]])"
      ]
     },
     "execution_count": 8,
     "metadata": {},
     "output_type": "execute_result"
    }
   ],
   "source": [
    "array[::2,::2]"
   ]
  },
  {
   "cell_type": "code",
   "execution_count": 11,
   "id": "8473de03",
   "metadata": {},
   "outputs": [
    {
     "data": {
      "text/plain": [
       "array([[5, 1, 3],\n",
       "       [4, 2, 1]])"
      ]
     },
     "execution_count": 11,
     "metadata": {},
     "output_type": "execute_result"
    }
   ],
   "source": [
    "array[::-2,::-2]"
   ]
  },
  {
   "cell_type": "markdown",
   "id": "2074ade5",
   "metadata": {},
   "source": [
    "### conditional slicing"
   ]
  },
  {
   "cell_type": "code",
   "execution_count": 12,
   "id": "bebfa831",
   "metadata": {},
   "outputs": [
    {
     "data": {
      "text/plain": [
       "array([[1, 1, 2, 2, 4],\n",
       "       [2, 3, 4, 5, 1],\n",
       "       [3, 2, 1, 4, 5]])"
      ]
     },
     "execution_count": 12,
     "metadata": {},
     "output_type": "execute_result"
    }
   ],
   "source": [
    "matrix=array\n",
    "matrix"
   ]
  },
  {
   "cell_type": "code",
   "execution_count": 22,
   "id": "e3c07833",
   "metadata": {},
   "outputs": [
    {
     "data": {
      "text/plain": [
       "array([2, 2, 4, 2, 4, 5, 2, 4, 5])"
      ]
     },
     "execution_count": 22,
     "metadata": {},
     "output_type": "execute_result"
    }
   ],
   "source": [
    "matrix[(matrix[:]%2==0)|(matrix[:]>3)]"
   ]
  },
  {
   "cell_type": "code",
   "execution_count": 24,
   "id": "f7f70519",
   "metadata": {},
   "outputs": [
    {
     "data": {
      "text/plain": [
       "array([2, 2, 4, 2, 4, 2, 4])"
      ]
     },
     "execution_count": 24,
     "metadata": {},
     "output_type": "execute_result"
    }
   ],
   "source": [
    "matrix[(matrix[:]%2==0)&(matrix[:]<=4)]"
   ]
  },
  {
   "cell_type": "markdown",
   "id": "fb54c8e6",
   "metadata": {},
   "source": [
    "dimensions and squeeze function### "
   ]
  },
  {
   "cell_type": "code",
   "execution_count": 25,
   "id": "6c89ad04",
   "metadata": {},
   "outputs": [
    {
     "data": {
      "text/plain": [
       "array([[1, 1, 2, 2, 4],\n",
       "       [2, 3, 4, 5, 1],\n",
       "       [3, 2, 1, 4, 5]])"
      ]
     },
     "execution_count": 25,
     "metadata": {},
     "output_type": "execute_result"
    }
   ],
   "source": [
    "matrix"
   ]
  }
 ],
 "metadata": {
  "kernelspec": {
   "display_name": "Python 3 (ipykernel)",
   "language": "python",
   "name": "python3"
  },
  "language_info": {
   "codemirror_mode": {
    "name": "ipython",
    "version": 3
   },
   "file_extension": ".py",
   "mimetype": "text/x-python",
   "name": "python",
   "nbconvert_exporter": "python",
   "pygments_lexer": "ipython3",
   "version": "3.8.8"
  }
 },
 "nbformat": 4,
 "nbformat_minor": 5
}
